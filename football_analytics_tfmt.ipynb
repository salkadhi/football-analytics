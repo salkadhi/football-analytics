{
 "cells": [
  {
   "cell_type": "code",
   "execution_count": 2,
   "metadata": {
    "ExecuteTime": {
     "end_time": "2022-08-19T21:00:16.486856Z",
     "start_time": "2022-08-19T21:00:16.417359Z"
    }
   },
   "outputs": [],
   "source": [
    "from re import match\n",
    "import pandas as pd\n",
    "import numpy as np\n",
    "import socceraction\n",
    "from socceraction.data.statsbomb import StatsBombLoader\n",
    "import socceraction.xthreat as xthreat\n",
    "import socceraction.spadl as spadl\n",
    "import socceraction.vaep.features as fs\n",
    "import socceraction.vaep.labels as lab\n",
    "import socceraction.vaep.formula as vaepformula\n",
    "import matplotsoccer as mps\n",
    "import matplotlib.pyplot as plt\n",
    "import jellyfish\n",
    "from tqdm import tqdm\n",
    "import xgboost\n",
    "from sklearn.metrics import brier_score_loss, roc_auc_score, log_loss\n",
    "import warnings\n",
    "\n",
    "\n",
    "warnings.filterwarnings('ignore')"
   ]
  },
  {
   "cell_type": "code",
   "execution_count": 3,
   "metadata": {
    "ExecuteTime": {
     "end_time": "2022-08-19T21:00:16.497133Z",
     "start_time": "2022-08-19T21:00:16.491464Z"
    }
   },
   "outputs": [],
   "source": [
    "#get indices for euro 2020 competition data\n",
    "COMPETITION_IDX = 55\n",
    "SEASON_IDX = 43"
   ]
  },
  {
   "cell_type": "code",
   "execution_count": 4,
   "metadata": {
    "ExecuteTime": {
     "end_time": "2022-08-19T21:00:17.328154Z",
     "start_time": "2022-08-19T21:00:16.504942Z"
    }
   },
   "outputs": [],
   "source": [
    "#define StatsBombLoader\n",
    "SBL = StatsBombLoader()\n",
    "df_competitions = SBL.competitions()"
   ]
  },
  {
   "cell_type": "code",
   "execution_count": 5,
   "metadata": {
    "ExecuteTime": {
     "end_time": "2022-08-19T21:00:17.344621Z",
     "start_time": "2022-08-19T21:00:17.337516Z"
    }
   },
   "outputs": [],
   "source": [
    "#function getting game idices - there are 51 games\n",
    "\n",
    "def get_games_idx(competition_id, season_id):\n",
    "    df_games = SBL.games(competition_id=55, season_id=43)\n",
    "    games_idx = list(df_games[\"game_id\"])\n",
    "    games_dict = {row[\"game_id\"]: {\"home_team_id\": row[\"home_team_id\"], \"away_team_id\": row[\"away_team_id\"]} for idx, row in df_games.iterrows()}\n",
    "    return games_idx, games_dict"
   ]
  },
  {
   "cell_type": "code",
   "execution_count": 6,
   "metadata": {
    "ExecuteTime": {
     "end_time": "2022-08-19T21:00:17.368197Z",
     "start_time": "2022-08-19T21:00:17.354219Z"
    }
   },
   "outputs": [],
   "source": [
    "#extract all players that participated in a single game\n",
    "def get_all_players_single_game(game_id):\n",
    "    df_players = SBL.players(game_id)\n",
    "    df_players = df_players[\n",
    "        [\n",
    "            \"player_id\",\n",
    "            \"player_name\",\n",
    "            \"team_id\"\n",
    "        ]\n",
    "    ]\n",
    "    return df_players\n",
    "\n",
    "#extract all players that participated in a competition\n",
    "def get_all_players(competition_id, season_id):\n",
    "    games_idx, _ = get_games_idx(competition_id, season_id)\n",
    "    players_df_list = []\n",
    "    pbar = tqdm(games_idx)\n",
    "    for game_idx in pbar:\n",
    "        pbar.set_description(f\"Extracting Players Data for Game ID: {game_idx}\")\n",
    "        \n",
    "        df_players = get_all_players_single_game(game_id=game_idx)\n",
    "        players_df_list.append(df_players)\n",
    "    cumulative_players_df = pd.concat(players_df_list).reset_index(drop=True)\n",
    "    cumulative_players_df.drop_duplicates(inplace=True)\n",
    "    return cumulative_players_df\n",
    "\n",
    "#create a dictionary with game events (passes, shots, etc). key - game ID, value - dataframe with events\n",
    "def get_game_events(game_id):\n",
    "    df_events_raw = SBL.events(game_id)\n",
    "    df_events_game = dict(tuple(df_events_raw.groupby(\"team_id\")))\n",
    "    return df_events_game\n",
    "\n",
    "#convert extracted competetions to socceraction SPADL format. key - game ID, value - dataframe with events\n",
    "def get_games_actions_spadl_format(games_dict):\n",
    "    games_actions_dict = {}\n",
    "    pbar = tqdm(games_dict.items())\n",
    "    for game_idx, team_dict in pbar:\n",
    "        df_events = SBL.events(game_idx)\n",
    "        pbar.set_description(f\"Calculating Actions Data for Game ID: {game_idx}\")\n",
    "        \n",
    "        df_events = SBL.events(game_idx)\n",
    "        df_actions = spadl.statsbomb.convert_to_actions(df_events, team_dict[\"home_team_id\"])\n",
    "        df_actions_ltr = spadl.play_left_to_right(df_actions, team_dict[\"home_team_id\"])\n",
    "        \n",
    "        games_actions_dict[game_idx] = df_actions_ltr\n",
    "        \n",
    "    return games_actions_dict"
   ]
  },
  {
   "cell_type": "code",
   "execution_count": 7,
   "metadata": {
    "ExecuteTime": {
     "end_time": "2022-08-19T21:00:17.388777Z",
     "start_time": "2022-08-19T21:00:17.377379Z"
    }
   },
   "outputs": [],
   "source": [
    "#build xT model\n",
    "def build_xt_model(df_actions, l=16, w=12):\n",
    "    xTModel = xthreat.ExpectedThreat(l=l, w=w)\n",
    "    xTModel.fit(df_actions)\n",
    "    return xTModel\n",
    "\n",
    "#predict xT on a trained model \n",
    "def predict_xt_model(df_actions, xt_model):\n",
    "    mov_actions = xthreat.get_successful_move_actions(df_actions)\n",
    "    mov_actions[\"xT_value\"] = xt_model.predict(mov_actions)\n",
    "    xt_df = mov_actions[\n",
    "        [\n",
    "            \"player_id\",\n",
    "            \"start_x\", \n",
    "            \"start_y\", \n",
    "            \"end_x\", \n",
    "            \"end_y\",\n",
    "            \"xT_value\"\n",
    "        ]\n",
    "    ]\n",
    "    return xt_df\n",
    "\n",
    "#calculate xT for each player that participated in euro. Average over all games\n",
    "def build_cumulative_players_xt(players_df, games_actions_dict, l=16, w=12):\n",
    "    player_xt_list = []\n",
    "    \n",
    "    df_actions_cumulative = pd.concat([df_actions for _, df_actions in games_actions_dict.items()])\n",
    "    xTModel = build_xt_model(df_actions_cumulative, l=l, w=w)\n",
    "    xt_df = predict_xt_model(df_actions_cumulative, xTModel)\n",
    "    players_xt_df = pd.DataFrame(xt_df.groupby(\"player_id\")[\"xT_value\"].sum())\n",
    "    players_xt_df = players_xt_df.reset_index(drop=False)\n",
    "    players_xt_df = pd.DataFrame(players_xt_df.groupby(\"player_id\")[\"xT_value\"].sum()).reset_index(drop=False)\n",
    "    players_xt_df = pd.merge(\n",
    "        left=players_xt_df,\n",
    "        right=players_df,\n",
    "        on=[\"player_id\", \"player_id\"]\n",
    "    )\n",
    "    players_xt_df.sort_values(\"xT_value\", inplace=True, ascending=False)\n",
    "    \n",
    "    return players_xt_df\n",
    "            "
   ]
  },
  {
   "cell_type": "code",
   "execution_count": 8,
   "metadata": {
    "ExecuteTime": {
     "end_time": "2022-08-19T21:02:21.690440Z",
     "start_time": "2022-08-19T21:00:17.396601Z"
    }
   },
   "outputs": [
    {
     "name": "stderr",
     "output_type": "stream",
     "text": [
      "Extracting Players Data for Game ID: 3788744: 100%|██████████| 51/51 [01:29<00:00,  1.75s/it]\n",
      "Calculating Actions Data for Game ID: 3788744: 100%|██████████| 51/51 [00:32<00:00,  1.56it/s]\n"
     ]
    },
    {
     "name": "stdout",
     "output_type": "stream",
     "text": [
      "# iterations:  55\n"
     ]
    }
   ],
   "source": [
    "#xT computation\n",
    "games_idx, games_dict = get_games_idx(competition_id=COMPETITION_IDX, season_id=SEASON_IDX)\n",
    "players_df = get_all_players(competition_id=COMPETITION_IDX, season_id=SEASON_IDX)\n",
    "games_actions_dict = get_games_actions_spadl_format(games_dict=games_dict)\n",
    "players_xt_df = build_cumulative_players_xt(\n",
    "    players_df=players_df,\n",
    "    games_actions_dict=games_actions_dict, \n",
    "    l=16, \n",
    "    w=12\n",
    ")"
   ]
  },
  {
   "cell_type": "code",
   "execution_count": 9,
   "metadata": {
    "ExecuteTime": {
     "end_time": "2022-08-19T21:02:21.768980Z",
     "start_time": "2022-08-19T21:02:21.700423Z"
    }
   },
   "outputs": [
    {
     "data": {
      "text/html": [
       "<div>\n",
       "<style scoped>\n",
       "    .dataframe tbody tr th:only-of-type {\n",
       "        vertical-align: middle;\n",
       "    }\n",
       "\n",
       "    .dataframe tbody tr th {\n",
       "        vertical-align: top;\n",
       "    }\n",
       "\n",
       "    .dataframe thead th {\n",
       "        text-align: right;\n",
       "    }\n",
       "</style>\n",
       "<table border=\"1\" class=\"dataframe\">\n",
       "  <thead>\n",
       "    <tr style=\"text-align: right;\">\n",
       "      <th></th>\n",
       "      <th>player_id</th>\n",
       "      <th>xT_value</th>\n",
       "      <th>player_name</th>\n",
       "      <th>team_id</th>\n",
       "    </tr>\n",
       "  </thead>\n",
       "  <tbody>\n",
       "    <tr>\n",
       "      <th>26</th>\n",
       "      <td>3311.0</td>\n",
       "      <td>0.947641</td>\n",
       "      <td>Daley Blind</td>\n",
       "      <td>941</td>\n",
       "    </tr>\n",
       "    <tr>\n",
       "      <th>192</th>\n",
       "      <td>7037.0</td>\n",
       "      <td>0.978972</td>\n",
       "      <td>Lorenzo Insigne</td>\n",
       "      <td>914</td>\n",
       "    </tr>\n",
       "    <tr>\n",
       "      <th>163</th>\n",
       "      <td>6399.0</td>\n",
       "      <td>1.039155</td>\n",
       "      <td>Gareth Frank Bale</td>\n",
       "      <td>907</td>\n",
       "    </tr>\n",
       "    <tr>\n",
       "      <th>133</th>\n",
       "      <td>5579.0</td>\n",
       "      <td>1.068950</td>\n",
       "      <td>Joshua Kimmich</td>\n",
       "      <td>770</td>\n",
       "    </tr>\n",
       "    <tr>\n",
       "      <th>33</th>\n",
       "      <td>3382.0</td>\n",
       "      <td>1.115606</td>\n",
       "      <td>Luke Shaw</td>\n",
       "      <td>768</td>\n",
       "    </tr>\n",
       "    <tr>\n",
       "      <th>20</th>\n",
       "      <td>3233.0</td>\n",
       "      <td>1.119845</td>\n",
       "      <td>Raheem Sterling</td>\n",
       "      <td>768</td>\n",
       "    </tr>\n",
       "    <tr>\n",
       "      <th>66</th>\n",
       "      <td>4353.0</td>\n",
       "      <td>1.235106</td>\n",
       "      <td>Aymeric Laporte</td>\n",
       "      <td>772</td>\n",
       "    </tr>\n",
       "    <tr>\n",
       "      <th>360</th>\n",
       "      <td>16554.0</td>\n",
       "      <td>1.384480</td>\n",
       "      <td>Joakim Mæhle</td>\n",
       "      <td>776</td>\n",
       "    </tr>\n",
       "    <tr>\n",
       "      <th>363</th>\n",
       "      <td>16570.0</td>\n",
       "      <td>1.466600</td>\n",
       "      <td>Vladimír Coufal</td>\n",
       "      <td>912</td>\n",
       "    </tr>\n",
       "    <tr>\n",
       "      <th>99</th>\n",
       "      <td>5211.0</td>\n",
       "      <td>1.761272</td>\n",
       "      <td>Jordi Alba Ramos</td>\n",
       "      <td>772</td>\n",
       "    </tr>\n",
       "  </tbody>\n",
       "</table>\n",
       "</div>"
      ],
      "text/plain": [
       "     player_id  xT_value        player_name  team_id\n",
       "26      3311.0  0.947641        Daley Blind      941\n",
       "192     7037.0  0.978972    Lorenzo Insigne      914\n",
       "163     6399.0  1.039155  Gareth Frank Bale      907\n",
       "133     5579.0  1.068950     Joshua Kimmich      770\n",
       "33      3382.0  1.115606          Luke Shaw      768\n",
       "20      3233.0  1.119845    Raheem Sterling      768\n",
       "66      4353.0  1.235106    Aymeric Laporte      772\n",
       "360    16554.0  1.384480       Joakim Mæhle      776\n",
       "363    16570.0  1.466600    Vladimír Coufal      912\n",
       "99      5211.0  1.761272   Jordi Alba Ramos      772"
      ]
     },
     "execution_count": 9,
     "metadata": {},
     "output_type": "execute_result"
    }
   ],
   "source": [
    "players_xt_df.head(10).sort_values(\"xT_value\", ascending=True)"
   ]
  },
  {
   "cell_type": "markdown",
   "metadata": {},
   "source": [
    "# Computation of Features Needed for VAEP calculation"
   ]
  },
  {
   "cell_type": "code",
   "execution_count": 10,
   "metadata": {
    "ExecuteTime": {
     "end_time": "2022-08-19T21:02:21.799988Z",
     "start_time": "2022-08-19T21:02:21.787973Z"
    }
   },
   "outputs": [],
   "source": [
    "#similar like in socceration notebooks. Create features and labels for fuether calculation\n",
    "def compute_features_and_labels(games_dict, games_actions_dict):\n",
    "    xfns = [\n",
    "        fs.actiontype,\n",
    "        fs.actiontype_onehot,\n",
    "        fs.bodypart,\n",
    "        fs.bodypart_onehot,\n",
    "        fs.result,\n",
    "        fs.result_onehot,\n",
    "        fs.goalscore,\n",
    "        fs.startlocation,\n",
    "        fs.endlocation,\n",
    "        fs.movement,\n",
    "        fs.space_delta,\n",
    "        fs.startpolar,\n",
    "        fs.endpolar,\n",
    "        fs.team,\n",
    "        fs.time,\n",
    "        fs.time_delta\n",
    "    ]\n",
    "    yfns = [\n",
    "        lab.scores, \n",
    "        lab.concedes, \n",
    "        lab.goal_from_shot\n",
    "    ]\n",
    "    \n",
    "    features_labels_dict = {}\n",
    "    \n",
    "    pbar = tqdm(games_dict.items())\n",
    "    for game_idx, games_data in pbar:\n",
    "        pbar.set_description(f\"Calculating Features and Labels for Game ID: {game_idx}\")\n",
    "        features_labels_dict[game_idx] = {}\n",
    "        gamestates = fs.gamestates(spadl.add_names(games_actions_dict[game_idx]), 3)\n",
    "        gamestates = fs.play_left_to_right(gamestates, games_data[\"home_team_id\"])\n",
    "        X = pd.concat([fn(gamestates) for fn in xfns], axis=1)        \n",
    "        Y = pd.concat([fn(spadl.add_names(games_actions_dict[game_idx])) for fn in yfns], axis=1)\n",
    "        features_labels_dict[game_idx][\"features\"] = X\n",
    "        features_labels_dict[game_idx][\"labels\"] = Y\n",
    "        \n",
    "    return features_labels_dict"
   ]
  },
  {
   "cell_type": "code",
   "execution_count": 11,
   "metadata": {
    "ExecuteTime": {
     "end_time": "2022-08-19T21:02:37.309816Z",
     "start_time": "2022-08-19T21:02:21.810106Z"
    }
   },
   "outputs": [
    {
     "name": "stderr",
     "output_type": "stream",
     "text": [
      "Calculating Features and Labels for Game ID: 3788744: 100%|██████████| 51/51 [00:15<00:00,  3.30it/s]\n"
     ]
    }
   ],
   "source": [
    "features_labels_dict = compute_features_and_labels(games_dict, games_actions_dict)"
   ]
  },
  {
   "cell_type": "markdown",
   "metadata": {},
   "source": [
    "## Estimate scoring and conceding probas"
   ]
  },
  {
   "cell_type": "code",
   "execution_count": 12,
   "metadata": {
    "ExecuteTime": {
     "end_time": "2022-08-19T21:02:37.341164Z",
     "start_time": "2022-08-19T21:02:37.317895Z"
    }
   },
   "outputs": [],
   "source": [
    "#similar like in socceration notebooks. Create X and Y data (features and labels) for further model training \n",
    "def getXY(games_dict, features_labels_dict):\n",
    "    xfns = [\n",
    "        fs.actiontype,\n",
    "        fs.actiontype_onehot,\n",
    "        fs.bodypart_onehot,\n",
    "        fs.result,\n",
    "        fs.result_onehot,\n",
    "        fs.goalscore,\n",
    "        fs.startlocation,\n",
    "        fs.endlocation,\n",
    "        fs.movement,\n",
    "        fs.space_delta,\n",
    "        fs.startpolar,\n",
    "        fs.endpolar,\n",
    "        fs.team,\n",
    "        fs.time_delta,\n",
    "    ]\n",
    "    nb_prev_actions = 1\n",
    "    \n",
    "    Xcols = fs.feature_column_names(xfns, nb_prev_actions)\n",
    "    Ycols = [\"scores\", \"concedes\"]\n",
    "    X = []\n",
    "    Y = []\n",
    "    \n",
    "    pbar = tqdm(games_dict.items())\n",
    "    for game_idx, games_data in pbar:\n",
    "        pbar.set_description(f\"Processing Scoring and Conceding Features and Labels for Game ID: {game_idx}\")\n",
    "        X.append(features_labels_dict[game_idx][\"features\"][Xcols])\n",
    "        Y.append(features_labels_dict[game_idx][\"labels\"][Ycols])\n",
    "        \n",
    "    X = pd.concat(X).reset_index(drop=True)\n",
    "    Y = pd.concat(Y).reset_index(drop=True)\n",
    "    return X, Y"
   ]
  },
  {
   "cell_type": "code",
   "execution_count": 13,
   "metadata": {
    "ExecuteTime": {
     "end_time": "2022-08-19T21:02:37.929112Z",
     "start_time": "2022-08-19T21:02:37.349958Z"
    }
   },
   "outputs": [
    {
     "name": "stderr",
     "output_type": "stream",
     "text": [
      "Processing Scoring and Conceding Features and Labels for Game ID: 3788744: 100%|██████████| 51/51 [00:00<00:00, 110.33it/s]\n"
     ]
    }
   ],
   "source": [
    "X, Y = getXY(games_dict, features_labels_dict)"
   ]
  },
  {
   "cell_type": "markdown",
   "metadata": {},
   "source": [
    "## Train a model for Scoring and Conceding Probability Estimation"
   ]
  },
  {
   "cell_type": "code",
   "execution_count": 14,
   "metadata": {
    "ExecuteTime": {
     "end_time": "2022-08-19T21:02:37.947827Z",
     "start_time": "2022-08-19T21:02:37.938721Z"
    }
   },
   "outputs": [],
   "source": [
    "#similar like in socceration notebooks. train XGBoost model for estimating probabilities of Scoring and Conceding goals\n",
    "def train_model_scoring_conceding(features, labels):\n",
    "    models = {}\n",
    "    for col in list(labels.columns):\n",
    "        model = xgboost.XGBClassifier(n_estimators=50, max_depth=3, n_jobs=-3, verbosity=1)\n",
    "        model.fit(features, labels[col])\n",
    "        models[col] = model\n",
    "    return models"
   ]
  },
  {
   "cell_type": "code",
   "execution_count": 15,
   "metadata": {
    "ExecuteTime": {
     "end_time": "2022-08-19T21:02:37.966596Z",
     "start_time": "2022-08-19T21:02:37.956769Z"
    }
   },
   "outputs": [],
   "source": [
    "#similar like in socceration notebooks. predict Scoring and Conceding probabilities based on pre-calculated features\n",
    "def predict_scoring_conceding_probas(models, features, labels, games_actions_dict):\n",
    "    pred_dict = {}\n",
    "    for col in list(labels.columns):\n",
    "        pred_dict[col] = [p[1] for p in models[col].predict_proba(features)]\n",
    "    \n",
    "    pred_df = pd.concat([df for game_idx, df in games_actions_dict.items()])[[\"game_id\"]].reset_index(drop=True)\n",
    "    for col, pred in pred_dict.items():\n",
    "        pred_df[col] = pred\n",
    "    \n",
    "    grouped_pred = dict(tuple(pred_df.groupby(\"game_id\")))\n",
    "    return grouped_pred"
   ]
  },
  {
   "cell_type": "code",
   "execution_count": 16,
   "metadata": {
    "ExecuteTime": {
     "end_time": "2022-08-19T21:02:55.846021Z",
     "start_time": "2022-08-19T21:02:37.974532Z"
    }
   },
   "outputs": [],
   "source": [
    "scoring_conceding_models = train_model_scoring_conceding(features=X, labels=Y)\n",
    "grouped_pred = predict_scoring_conceding_probas(scoring_conceding_models, X, Y, games_actions_dict)"
   ]
  },
  {
   "cell_type": "markdown",
   "metadata": {},
   "source": [
    "# VAEP Calculation"
   ]
  },
  {
   "cell_type": "code",
   "execution_count": 17,
   "metadata": {
    "ExecuteTime": {
     "end_time": "2022-08-19T21:02:55.892768Z",
     "start_time": "2022-08-19T21:02:55.863003Z"
    }
   },
   "outputs": [],
   "source": [
    "#similar like in socceration notebooks. calculate VAEP values based on trained model\n",
    "def calculate_vaep_values(games_actions_dict, grouped_pred):\n",
    "    actions_cumulative = spadl.add_names(pd.concat([df for game_idx, df in games_actions_dict.items()]))\n",
    "    grouped_actions_cumulative = dict(tuple(actions_cumulative.groupby(\"game_id\")))\n",
    "    \n",
    "    vaep_list = []\n",
    "    for game_id, action_df in grouped_actions_cumulative.items():\n",
    "        vaep_values = vaepformula.value(action_df, grouped_pred[game_id][\"scores\"], grouped_pred[game_id][\"concedes\"])\n",
    "        vaep_list.append(pd.concat([action_df[[\"player_id\"]], vaep_values], axis=1))\n",
    "        \n",
    "    vaep_df = pd.concat(vaep_list).dropna().reset_index(drop=True)\n",
    "    vaep_df = pd.DataFrame(vaep_df.groupby(\"player_id\").sum()).reset_index(drop=False)\n",
    "    return vaep_df"
   ]
  },
  {
   "cell_type": "code",
   "execution_count": 18,
   "metadata": {
    "ExecuteTime": {
     "end_time": "2022-08-19T21:02:57.035529Z",
     "start_time": "2022-08-19T21:02:55.905502Z"
    }
   },
   "outputs": [],
   "source": [
    "vaep_df = calculate_vaep_values(games_actions_dict, grouped_pred)"
   ]
  },
  {
   "cell_type": "code",
   "execution_count": 19,
   "metadata": {
    "ExecuteTime": {
     "end_time": "2022-08-19T21:02:57.066283Z",
     "start_time": "2022-08-19T21:02:57.043954Z"
    }
   },
   "outputs": [],
   "source": [
    "players_xt_vaep = pd.merge(\n",
    "    left=players_xt_df,\n",
    "    right=vaep_df,\n",
    "    on=[\"player_id\", \"player_id\"]\n",
    ")"
   ]
  },
  {
   "cell_type": "code",
   "execution_count": 20,
   "metadata": {
    "ExecuteTime": {
     "end_time": "2022-08-19T21:02:57.106487Z",
     "start_time": "2022-08-19T21:02:57.074853Z"
    }
   },
   "outputs": [
    {
     "data": {
      "text/html": [
       "<div>\n",
       "<style scoped>\n",
       "    .dataframe tbody tr th:only-of-type {\n",
       "        vertical-align: middle;\n",
       "    }\n",
       "\n",
       "    .dataframe tbody tr th {\n",
       "        vertical-align: top;\n",
       "    }\n",
       "\n",
       "    .dataframe thead th {\n",
       "        text-align: right;\n",
       "    }\n",
       "</style>\n",
       "<table border=\"1\" class=\"dataframe\">\n",
       "  <thead>\n",
       "    <tr style=\"text-align: right;\">\n",
       "      <th></th>\n",
       "      <th>player_id</th>\n",
       "      <th>xT_value</th>\n",
       "      <th>player_name</th>\n",
       "      <th>team_id</th>\n",
       "      <th>offensive_value</th>\n",
       "      <th>defensive_value</th>\n",
       "      <th>vaep_value</th>\n",
       "    </tr>\n",
       "  </thead>\n",
       "  <tbody>\n",
       "    <tr>\n",
       "      <th>10</th>\n",
       "      <td>16532.0</td>\n",
       "      <td>0.932470</td>\n",
       "      <td>Daniel Olmo Carvajal</td>\n",
       "      <td>772</td>\n",
       "      <td>0.505328</td>\n",
       "      <td>-1.535873</td>\n",
       "      <td>-1.030545</td>\n",
       "    </tr>\n",
       "    <tr>\n",
       "      <th>14</th>\n",
       "      <td>7173.0</td>\n",
       "      <td>0.851108</td>\n",
       "      <td>Leonardo Bonucci</td>\n",
       "      <td>914</td>\n",
       "      <td>0.909990</td>\n",
       "      <td>-1.052405</td>\n",
       "      <td>-0.142414</td>\n",
       "    </tr>\n",
       "    <tr>\n",
       "      <th>29</th>\n",
       "      <td>5207.0</td>\n",
       "      <td>0.752445</td>\n",
       "      <td>Cristiano Ronaldo dos Santos Aveiro</td>\n",
       "      <td>780</td>\n",
       "      <td>2.201384</td>\n",
       "      <td>-0.806136</td>\n",
       "      <td>1.395249</td>\n",
       "    </tr>\n",
       "    <tr>\n",
       "      <th>2</th>\n",
       "      <td>16554.0</td>\n",
       "      <td>1.384480</td>\n",
       "      <td>Joakim Mæhle</td>\n",
       "      <td>776</td>\n",
       "      <td>3.005048</td>\n",
       "      <td>-0.508523</td>\n",
       "      <td>2.496526</td>\n",
       "    </tr>\n",
       "    <tr>\n",
       "      <th>38</th>\n",
       "      <td>8220.0</td>\n",
       "      <td>0.631284</td>\n",
       "      <td>David Olatukunbo Alaba</td>\n",
       "      <td>915</td>\n",
       "      <td>0.384988</td>\n",
       "      <td>-0.448035</td>\n",
       "      <td>-0.063047</td>\n",
       "    </tr>\n",
       "    <tr>\n",
       "      <th>39</th>\n",
       "      <td>8779.0</td>\n",
       "      <td>0.628274</td>\n",
       "      <td>Stefan Lainer</td>\n",
       "      <td>915</td>\n",
       "      <td>1.581466</td>\n",
       "      <td>-0.407063</td>\n",
       "      <td>1.174403</td>\n",
       "    </tr>\n",
       "    <tr>\n",
       "      <th>7</th>\n",
       "      <td>6399.0</td>\n",
       "      <td>1.039155</td>\n",
       "      <td>Gareth Frank Bale</td>\n",
       "      <td>907</td>\n",
       "      <td>-0.480698</td>\n",
       "      <td>-0.314538</td>\n",
       "      <td>-0.795235</td>\n",
       "    </tr>\n",
       "    <tr>\n",
       "      <th>33</th>\n",
       "      <td>2988.0</td>\n",
       "      <td>0.690735</td>\n",
       "      <td>Memphis Depay</td>\n",
       "      <td>941</td>\n",
       "      <td>0.781956</td>\n",
       "      <td>-0.277110</td>\n",
       "      <td>0.504846</td>\n",
       "    </tr>\n",
       "    <tr>\n",
       "      <th>4</th>\n",
       "      <td>3233.0</td>\n",
       "      <td>1.119845</td>\n",
       "      <td>Raheem Sterling</td>\n",
       "      <td>768</td>\n",
       "      <td>2.677634</td>\n",
       "      <td>-0.276107</td>\n",
       "      <td>2.401527</td>\n",
       "    </tr>\n",
       "    <tr>\n",
       "      <th>11</th>\n",
       "      <td>24443.0</td>\n",
       "      <td>0.867408</td>\n",
       "      <td>Mikkel Damsgaard</td>\n",
       "      <td>776</td>\n",
       "      <td>1.691570</td>\n",
       "      <td>-0.250202</td>\n",
       "      <td>1.441368</td>\n",
       "    </tr>\n",
       "    <tr>\n",
       "      <th>17</th>\n",
       "      <td>3289.0</td>\n",
       "      <td>0.837625</td>\n",
       "      <td>Romelu Lukaku Menama</td>\n",
       "      <td>782</td>\n",
       "      <td>3.225088</td>\n",
       "      <td>-0.147032</td>\n",
       "      <td>3.078056</td>\n",
       "    </tr>\n",
       "    <tr>\n",
       "      <th>6</th>\n",
       "      <td>5579.0</td>\n",
       "      <td>1.068950</td>\n",
       "      <td>Joshua Kimmich</td>\n",
       "      <td>770</td>\n",
       "      <td>1.245341</td>\n",
       "      <td>-0.140154</td>\n",
       "      <td>1.105187</td>\n",
       "    </tr>\n",
       "    <tr>\n",
       "      <th>27</th>\n",
       "      <td>8819.0</td>\n",
       "      <td>0.756629</td>\n",
       "      <td>Alexander Isak</td>\n",
       "      <td>790</td>\n",
       "      <td>0.034517</td>\n",
       "      <td>-0.119635</td>\n",
       "      <td>-0.085118</td>\n",
       "    </tr>\n",
       "    <tr>\n",
       "      <th>18</th>\n",
       "      <td>31900.0</td>\n",
       "      <td>0.824385</td>\n",
       "      <td>Oleksandr Karavaev</td>\n",
       "      <td>911</td>\n",
       "      <td>0.937596</td>\n",
       "      <td>-0.116255</td>\n",
       "      <td>0.821341</td>\n",
       "    </tr>\n",
       "    <tr>\n",
       "      <th>30</th>\n",
       "      <td>6748.0</td>\n",
       "      <td>0.743941</td>\n",
       "      <td>Ferrán Torres García</td>\n",
       "      <td>772</td>\n",
       "      <td>2.107416</td>\n",
       "      <td>-0.096341</td>\n",
       "      <td>2.011075</td>\n",
       "    </tr>\n",
       "    <tr>\n",
       "      <th>20</th>\n",
       "      <td>5177.0</td>\n",
       "      <td>0.805724</td>\n",
       "      <td>Aleksandr Golovin</td>\n",
       "      <td>796</td>\n",
       "      <td>0.824625</td>\n",
       "      <td>-0.092120</td>\n",
       "      <td>0.732505</td>\n",
       "    </tr>\n",
       "    <tr>\n",
       "      <th>24</th>\n",
       "      <td>6840.0</td>\n",
       "      <td>0.771394</td>\n",
       "      <td>Marcos Llorente Moreno</td>\n",
       "      <td>772</td>\n",
       "      <td>0.154586</td>\n",
       "      <td>-0.088227</td>\n",
       "      <td>0.066359</td>\n",
       "    </tr>\n",
       "    <tr>\n",
       "      <th>35</th>\n",
       "      <td>8815.0</td>\n",
       "      <td>0.657339</td>\n",
       "      <td>Jannik Vestergaard</td>\n",
       "      <td>776</td>\n",
       "      <td>0.192404</td>\n",
       "      <td>-0.082288</td>\n",
       "      <td>0.110116</td>\n",
       "    </tr>\n",
       "    <tr>\n",
       "      <th>0</th>\n",
       "      <td>5211.0</td>\n",
       "      <td>1.761272</td>\n",
       "      <td>Jordi Alba Ramos</td>\n",
       "      <td>772</td>\n",
       "      <td>2.099831</td>\n",
       "      <td>-0.079838</td>\n",
       "      <td>2.019993</td>\n",
       "    </tr>\n",
       "    <tr>\n",
       "      <th>32</th>\n",
       "      <td>3089.0</td>\n",
       "      <td>0.697049</td>\n",
       "      <td>Kevin De Bruyne</td>\n",
       "      <td>782</td>\n",
       "      <td>1.159796</td>\n",
       "      <td>-0.077771</td>\n",
       "      <td>1.082025</td>\n",
       "    </tr>\n",
       "    <tr>\n",
       "      <th>23</th>\n",
       "      <td>7979.0</td>\n",
       "      <td>0.777159</td>\n",
       "      <td>Przemysław Frankowski</td>\n",
       "      <td>789</td>\n",
       "      <td>0.420373</td>\n",
       "      <td>-0.034215</td>\n",
       "      <td>0.386158</td>\n",
       "    </tr>\n",
       "    <tr>\n",
       "      <th>22</th>\n",
       "      <td>8830.0</td>\n",
       "      <td>0.791603</td>\n",
       "      <td>Andriy Yarmolenko</td>\n",
       "      <td>911</td>\n",
       "      <td>1.990961</td>\n",
       "      <td>-0.028981</td>\n",
       "      <td>1.961980</td>\n",
       "    </tr>\n",
       "    <tr>\n",
       "      <th>15</th>\n",
       "      <td>5524.0</td>\n",
       "      <td>0.850717</td>\n",
       "      <td>Jens Stryger Larsen</td>\n",
       "      <td>776</td>\n",
       "      <td>0.463381</td>\n",
       "      <td>-0.021790</td>\n",
       "      <td>0.441591</td>\n",
       "    </tr>\n",
       "    <tr>\n",
       "      <th>12</th>\n",
       "      <td>9638.0</td>\n",
       "      <td>0.858059</td>\n",
       "      <td>Jack Grealish</td>\n",
       "      <td>768</td>\n",
       "      <td>0.602181</td>\n",
       "      <td>-0.005432</td>\n",
       "      <td>0.596749</td>\n",
       "    </tr>\n",
       "    <tr>\n",
       "      <th>21</th>\n",
       "      <td>5574.0</td>\n",
       "      <td>0.802208</td>\n",
       "      <td>Toni Kroos</td>\n",
       "      <td>770</td>\n",
       "      <td>0.877894</td>\n",
       "      <td>0.005029</td>\n",
       "      <td>0.882923</td>\n",
       "    </tr>\n",
       "    <tr>\n",
       "      <th>37</th>\n",
       "      <td>4673.0</td>\n",
       "      <td>0.650553</td>\n",
       "      <td>Kamil Jóźwiak</td>\n",
       "      <td>789</td>\n",
       "      <td>0.625153</td>\n",
       "      <td>0.007594</td>\n",
       "      <td>0.632747</td>\n",
       "    </tr>\n",
       "    <tr>\n",
       "      <th>31</th>\n",
       "      <td>5204.0</td>\n",
       "      <td>0.704449</td>\n",
       "      <td>Bruno Miguel Borges Fernandes</td>\n",
       "      <td>780</td>\n",
       "      <td>0.197985</td>\n",
       "      <td>0.008780</td>\n",
       "      <td>0.206765</td>\n",
       "    </tr>\n",
       "    <tr>\n",
       "      <th>8</th>\n",
       "      <td>7037.0</td>\n",
       "      <td>0.978972</td>\n",
       "      <td>Lorenzo Insigne</td>\n",
       "      <td>914</td>\n",
       "      <td>2.311285</td>\n",
       "      <td>0.017347</td>\n",
       "      <td>2.328632</td>\n",
       "    </tr>\n",
       "    <tr>\n",
       "      <th>16</th>\n",
       "      <td>8286.0</td>\n",
       "      <td>0.849742</td>\n",
       "      <td>Leonardo Spinazzola</td>\n",
       "      <td>914</td>\n",
       "      <td>0.774762</td>\n",
       "      <td>0.017383</td>\n",
       "      <td>0.792145</td>\n",
       "    </tr>\n",
       "    <tr>\n",
       "      <th>25</th>\n",
       "      <td>5544.0</td>\n",
       "      <td>0.763970</td>\n",
       "      <td>Ricardo Iván Rodríguez Araya</td>\n",
       "      <td>773</td>\n",
       "      <td>-0.204922</td>\n",
       "      <td>0.027921</td>\n",
       "      <td>-0.177001</td>\n",
       "    </tr>\n",
       "    <tr>\n",
       "      <th>5</th>\n",
       "      <td>3382.0</td>\n",
       "      <td>1.115606</td>\n",
       "      <td>Luke Shaw</td>\n",
       "      <td>768</td>\n",
       "      <td>2.497064</td>\n",
       "      <td>0.032856</td>\n",
       "      <td>2.529920</td>\n",
       "    </tr>\n",
       "    <tr>\n",
       "      <th>36</th>\n",
       "      <td>11514.0</td>\n",
       "      <td>0.653686</td>\n",
       "      <td>Giovanni Di Lorenzo</td>\n",
       "      <td>914</td>\n",
       "      <td>1.268559</td>\n",
       "      <td>0.070679</td>\n",
       "      <td>1.339239</td>\n",
       "    </tr>\n",
       "    <tr>\n",
       "      <th>28</th>\n",
       "      <td>33018.0</td>\n",
       "      <td>0.755625</td>\n",
       "      <td>Joško Gvardiol</td>\n",
       "      <td>785</td>\n",
       "      <td>0.927585</td>\n",
       "      <td>0.074052</td>\n",
       "      <td>1.001637</td>\n",
       "    </tr>\n",
       "    <tr>\n",
       "      <th>26</th>\n",
       "      <td>5527.0</td>\n",
       "      <td>0.760324</td>\n",
       "      <td>Thomas Delaney</td>\n",
       "      <td>776</td>\n",
       "      <td>1.798362</td>\n",
       "      <td>0.091367</td>\n",
       "      <td>1.889728</td>\n",
       "    </tr>\n",
       "    <tr>\n",
       "      <th>13</th>\n",
       "      <td>30486.0</td>\n",
       "      <td>0.856220</td>\n",
       "      <td>Pedro González López</td>\n",
       "      <td>772</td>\n",
       "      <td>1.017981</td>\n",
       "      <td>0.148024</td>\n",
       "      <td>1.166005</td>\n",
       "    </tr>\n",
       "    <tr>\n",
       "      <th>9</th>\n",
       "      <td>3311.0</td>\n",
       "      <td>0.947641</td>\n",
       "      <td>Daley Blind</td>\n",
       "      <td>941</td>\n",
       "      <td>0.869566</td>\n",
       "      <td>0.186084</td>\n",
       "      <td>1.055650</td>\n",
       "    </tr>\n",
       "    <tr>\n",
       "      <th>19</th>\n",
       "      <td>3570.0</td>\n",
       "      <td>0.811290</td>\n",
       "      <td>Pierre-Emile Højbjerg</td>\n",
       "      <td>776</td>\n",
       "      <td>0.363620</td>\n",
       "      <td>0.207392</td>\n",
       "      <td>0.571012</td>\n",
       "    </tr>\n",
       "    <tr>\n",
       "      <th>3</th>\n",
       "      <td>4353.0</td>\n",
       "      <td>1.235106</td>\n",
       "      <td>Aymeric Laporte</td>\n",
       "      <td>772</td>\n",
       "      <td>1.261502</td>\n",
       "      <td>0.306275</td>\n",
       "      <td>1.567777</td>\n",
       "    </tr>\n",
       "    <tr>\n",
       "      <th>1</th>\n",
       "      <td>16570.0</td>\n",
       "      <td>1.466600</td>\n",
       "      <td>Vladimír Coufal</td>\n",
       "      <td>912</td>\n",
       "      <td>1.772318</td>\n",
       "      <td>0.310737</td>\n",
       "      <td>2.083055</td>\n",
       "    </tr>\n",
       "    <tr>\n",
       "      <th>34</th>\n",
       "      <td>5463.0</td>\n",
       "      <td>0.664809</td>\n",
       "      <td>Luka Modrić</td>\n",
       "      <td>785</td>\n",
       "      <td>1.269124</td>\n",
       "      <td>0.314179</td>\n",
       "      <td>1.583303</td>\n",
       "    </tr>\n",
       "  </tbody>\n",
       "</table>\n",
       "</div>"
      ],
      "text/plain": [
       "    player_id  xT_value                          player_name  team_id  \\\n",
       "10    16532.0  0.932470                 Daniel Olmo Carvajal      772   \n",
       "14     7173.0  0.851108                     Leonardo Bonucci      914   \n",
       "29     5207.0  0.752445  Cristiano Ronaldo dos Santos Aveiro      780   \n",
       "2     16554.0  1.384480                         Joakim Mæhle      776   \n",
       "38     8220.0  0.631284               David Olatukunbo Alaba      915   \n",
       "39     8779.0  0.628274                        Stefan Lainer      915   \n",
       "7      6399.0  1.039155                    Gareth Frank Bale      907   \n",
       "33     2988.0  0.690735                        Memphis Depay      941   \n",
       "4      3233.0  1.119845                      Raheem Sterling      768   \n",
       "11    24443.0  0.867408                     Mikkel Damsgaard      776   \n",
       "17     3289.0  0.837625                 Romelu Lukaku Menama      782   \n",
       "6      5579.0  1.068950                       Joshua Kimmich      770   \n",
       "27     8819.0  0.756629                       Alexander Isak      790   \n",
       "18    31900.0  0.824385                   Oleksandr Karavaev      911   \n",
       "30     6748.0  0.743941                 Ferrán Torres García      772   \n",
       "20     5177.0  0.805724                    Aleksandr Golovin      796   \n",
       "24     6840.0  0.771394               Marcos Llorente Moreno      772   \n",
       "35     8815.0  0.657339                   Jannik Vestergaard      776   \n",
       "0      5211.0  1.761272                     Jordi Alba Ramos      772   \n",
       "32     3089.0  0.697049                      Kevin De Bruyne      782   \n",
       "23     7979.0  0.777159                Przemysław Frankowski      789   \n",
       "22     8830.0  0.791603                    Andriy Yarmolenko      911   \n",
       "15     5524.0  0.850717                  Jens Stryger Larsen      776   \n",
       "12     9638.0  0.858059                        Jack Grealish      768   \n",
       "21     5574.0  0.802208                           Toni Kroos      770   \n",
       "37     4673.0  0.650553                        Kamil Jóźwiak      789   \n",
       "31     5204.0  0.704449        Bruno Miguel Borges Fernandes      780   \n",
       "8      7037.0  0.978972                      Lorenzo Insigne      914   \n",
       "16     8286.0  0.849742                  Leonardo Spinazzola      914   \n",
       "25     5544.0  0.763970         Ricardo Iván Rodríguez Araya      773   \n",
       "5      3382.0  1.115606                            Luke Shaw      768   \n",
       "36    11514.0  0.653686                  Giovanni Di Lorenzo      914   \n",
       "28    33018.0  0.755625                       Joško Gvardiol      785   \n",
       "26     5527.0  0.760324                       Thomas Delaney      776   \n",
       "13    30486.0  0.856220                 Pedro González López      772   \n",
       "9      3311.0  0.947641                          Daley Blind      941   \n",
       "19     3570.0  0.811290                Pierre-Emile Højbjerg      776   \n",
       "3      4353.0  1.235106                      Aymeric Laporte      772   \n",
       "1     16570.0  1.466600                      Vladimír Coufal      912   \n",
       "34     5463.0  0.664809                          Luka Modrić      785   \n",
       "\n",
       "    offensive_value  defensive_value  vaep_value  \n",
       "10         0.505328        -1.535873   -1.030545  \n",
       "14         0.909990        -1.052405   -0.142414  \n",
       "29         2.201384        -0.806136    1.395249  \n",
       "2          3.005048        -0.508523    2.496526  \n",
       "38         0.384988        -0.448035   -0.063047  \n",
       "39         1.581466        -0.407063    1.174403  \n",
       "7         -0.480698        -0.314538   -0.795235  \n",
       "33         0.781956        -0.277110    0.504846  \n",
       "4          2.677634        -0.276107    2.401527  \n",
       "11         1.691570        -0.250202    1.441368  \n",
       "17         3.225088        -0.147032    3.078056  \n",
       "6          1.245341        -0.140154    1.105187  \n",
       "27         0.034517        -0.119635   -0.085118  \n",
       "18         0.937596        -0.116255    0.821341  \n",
       "30         2.107416        -0.096341    2.011075  \n",
       "20         0.824625        -0.092120    0.732505  \n",
       "24         0.154586        -0.088227    0.066359  \n",
       "35         0.192404        -0.082288    0.110116  \n",
       "0          2.099831        -0.079838    2.019993  \n",
       "32         1.159796        -0.077771    1.082025  \n",
       "23         0.420373        -0.034215    0.386158  \n",
       "22         1.990961        -0.028981    1.961980  \n",
       "15         0.463381        -0.021790    0.441591  \n",
       "12         0.602181        -0.005432    0.596749  \n",
       "21         0.877894         0.005029    0.882923  \n",
       "37         0.625153         0.007594    0.632747  \n",
       "31         0.197985         0.008780    0.206765  \n",
       "8          2.311285         0.017347    2.328632  \n",
       "16         0.774762         0.017383    0.792145  \n",
       "25        -0.204922         0.027921   -0.177001  \n",
       "5          2.497064         0.032856    2.529920  \n",
       "36         1.268559         0.070679    1.339239  \n",
       "28         0.927585         0.074052    1.001637  \n",
       "26         1.798362         0.091367    1.889728  \n",
       "13         1.017981         0.148024    1.166005  \n",
       "9          0.869566         0.186084    1.055650  \n",
       "19         0.363620         0.207392    0.571012  \n",
       "3          1.261502         0.306275    1.567777  \n",
       "1          1.772318         0.310737    2.083055  \n",
       "34         1.269124         0.314179    1.583303  "
      ]
     },
     "execution_count": 20,
     "metadata": {},
     "output_type": "execute_result"
    }
   ],
   "source": [
    "players_xt_vaep.head(40).sort_values(\"defensive_value\", ascending=True)"
   ]
  },
  {
   "cell_type": "markdown",
   "metadata": {},
   "source": [
    "# xG Calculation"
   ]
  },
  {
   "cell_type": "code",
   "execution_count": 21,
   "metadata": {
    "ExecuteTime": {
     "end_time": "2022-08-19T21:02:57.123062Z",
     "start_time": "2022-08-19T21:02:57.115190Z"
    }
   },
   "outputs": [],
   "source": [
    "#similar like in socceration notebooks. Create X and Y data for training xG mode\n",
    "def create_features_labels_xg(feature_names, shots_actions):\n",
    "    return shots_actions[feature_names], shots_actions[\"result_success_a0\"]"
   ]
  },
  {
   "cell_type": "code",
   "execution_count": 22,
   "metadata": {
    "ExecuteTime": {
     "end_time": "2022-08-19T21:02:57.143372Z",
     "start_time": "2022-08-19T21:02:57.129918Z"
    }
   },
   "outputs": [],
   "source": [
    "#train xG model using XBGboost\n",
    "def train_model_xg(features, labels):\n",
    "    xGmodel = xgboost.XGBClassifier()\n",
    "    xGmodel.fit(features, labels)\n",
    "    return xGmodel\n",
    "\n",
    "#predict xG values by using the model\n",
    "def predict_xg(model, features, labels):\n",
    "    pred = model.predict_proba(features)\n",
    "    pred = [p[1] for p in pred]\n",
    "    return pred"
   ]
  },
  {
   "cell_type": "code",
   "execution_count": 23,
   "metadata": {
    "ExecuteTime": {
     "end_time": "2022-08-19T21:02:57.175158Z",
     "start_time": "2022-08-19T21:02:57.155371Z"
    }
   },
   "outputs": [],
   "source": [
    "#similar like in socceration notebooks. Create dataframe with shot events for xG calculation\n",
    "def calculate_xg_features(games_actions_dict, features_labels_dict):\n",
    "    xfns = [\n",
    "        fs.actiontype_onehot,\n",
    "        fs.bodypart_onehot,\n",
    "        fs.startlocation,\n",
    "        fs.movement,\n",
    "        fs.space_delta,\n",
    "        fs.startpolar,\n",
    "        fs.team,\n",
    "    ]\n",
    "    nb_prev_actions = 2\n",
    "    feature_names = fs.feature_column_names(xfns, nb_prev_actions)\n",
    "    feature_names = list(filter(lambda v: not match('type_[a-z_]+_a0', v), feature_names))\n",
    "    feature_names.remove(\"dx_a0\")\n",
    "    feature_names.remove(\"dy_a0\")\n",
    "    feature_names.remove(\"movement_a0\")\n",
    "\n",
    "    actions_cumulative = spadl.add_names(pd.concat([df for game_idx, df in games_actions_dict.items()]))\n",
    "    features_cumulative = pd.concat([df[\"features\"] for game_idx, df in features_labels_dict.items()])\n",
    "    #below you can see how extracting shot actions was differrent in the example notebook\n",
    "    #shot_idx = actions_cumulative[\"type_name\"].str.contains(\"shot\")\n",
    "    #shots_actions = features_cumulative[shot_idx]\n",
    "    shot_idx = [idx for idx, row in actions_cumulative[[\"type_name\"]].iterrows() if \"shot\" in row[\"type_name\"]]\n",
    "    shots_actions = features_cumulative.iloc[shot_idx]\n",
    "    return shots_actions, feature_names, actions_cumulative, shot_idx\n",
    "\n",
    "#Create a dataframe with Players and their respective xG values\n",
    "def get_players_xg(actions_cumulative, pred_xg):\n",
    "    xg_raw = actions_cumulative[[\"player_id\"]]\n",
    "    xg_raw[\"xG_value\"] = 0\n",
    "    xg_raw.iloc[shot_idx, 1] = pred_xg\n",
    "    xg_df = pd.DataFrame(xg_raw.groupby(\"player_id\").sum()).reset_index(drop=False)\n",
    "    return xg_df"
   ]
  },
  {
   "cell_type": "code",
   "execution_count": 24,
   "metadata": {
    "ExecuteTime": {
     "end_time": "2022-08-19T21:03:03.284571Z",
     "start_time": "2022-08-19T21:02:57.189743Z"
    }
   },
   "outputs": [],
   "source": [
    "#Run xG calculation\n",
    "shots_actions, feature_names, actions_cumulative, shot_idx = calculate_xg_features(games_actions_dict, features_labels_dict)\n",
    "X_xg, Y_xg = create_features_labels_xg(feature_names, shots_actions)\n",
    "xGmodel = train_model_xg(features=X_xg, labels=Y_xg)\n",
    "pred_xg = predict_xg(xGmodel, X_xg, Y_xg)\n",
    "xg_df = get_players_xg(actions_cumulative, pred_xg)"
   ]
  },
  {
   "cell_type": "code",
   "execution_count": 25,
   "metadata": {
    "ExecuteTime": {
     "end_time": "2022-08-19T21:03:03.311909Z",
     "start_time": "2022-08-19T21:03:03.299490Z"
    }
   },
   "outputs": [],
   "source": [
    "#merge all results from xT VAEP and xG into a single data frame\n",
    "players_xt_vaep_xg = pd.merge(\n",
    "    left=players_xt_vaep,\n",
    "    right=xg_df,\n",
    "    on=[\"player_id\", \"player_id\"]\n",
    ")"
   ]
  },
  {
   "cell_type": "code",
   "execution_count": 26,
   "metadata": {
    "ExecuteTime": {
     "end_time": "2022-08-19T21:03:03.339376Z",
     "start_time": "2022-08-19T21:03:03.317944Z"
    }
   },
   "outputs": [
    {
     "data": {
      "text/html": [
       "<div>\n",
       "<style scoped>\n",
       "    .dataframe tbody tr th:only-of-type {\n",
       "        vertical-align: middle;\n",
       "    }\n",
       "\n",
       "    .dataframe tbody tr th {\n",
       "        vertical-align: top;\n",
       "    }\n",
       "\n",
       "    .dataframe thead th {\n",
       "        text-align: right;\n",
       "    }\n",
       "</style>\n",
       "<table border=\"1\" class=\"dataframe\">\n",
       "  <thead>\n",
       "    <tr style=\"text-align: right;\">\n",
       "      <th></th>\n",
       "      <th>player_id</th>\n",
       "      <th>xT_value</th>\n",
       "      <th>player_name</th>\n",
       "      <th>team_id</th>\n",
       "      <th>offensive_value</th>\n",
       "      <th>defensive_value</th>\n",
       "      <th>vaep_value</th>\n",
       "      <th>xG_value</th>\n",
       "    </tr>\n",
       "  </thead>\n",
       "  <tbody>\n",
       "    <tr>\n",
       "      <th>0</th>\n",
       "      <td>5211.0</td>\n",
       "      <td>1.761272</td>\n",
       "      <td>Jordi Alba Ramos</td>\n",
       "      <td>772</td>\n",
       "      <td>2.099831</td>\n",
       "      <td>-0.079838</td>\n",
       "      <td>2.019993</td>\n",
       "      <td>0.053367</td>\n",
       "    </tr>\n",
       "    <tr>\n",
       "      <th>1</th>\n",
       "      <td>16570.0</td>\n",
       "      <td>1.466600</td>\n",
       "      <td>Vladimír Coufal</td>\n",
       "      <td>912</td>\n",
       "      <td>1.772318</td>\n",
       "      <td>0.310737</td>\n",
       "      <td>2.083055</td>\n",
       "      <td>0.021104</td>\n",
       "    </tr>\n",
       "    <tr>\n",
       "      <th>2</th>\n",
       "      <td>16554.0</td>\n",
       "      <td>1.384480</td>\n",
       "      <td>Joakim Mæhle</td>\n",
       "      <td>776</td>\n",
       "      <td>3.005048</td>\n",
       "      <td>-0.508523</td>\n",
       "      <td>2.496526</td>\n",
       "      <td>1.838846</td>\n",
       "    </tr>\n",
       "    <tr>\n",
       "      <th>3</th>\n",
       "      <td>4353.0</td>\n",
       "      <td>1.235106</td>\n",
       "      <td>Aymeric Laporte</td>\n",
       "      <td>772</td>\n",
       "      <td>1.261502</td>\n",
       "      <td>0.306275</td>\n",
       "      <td>1.567777</td>\n",
       "      <td>0.935935</td>\n",
       "    </tr>\n",
       "    <tr>\n",
       "      <th>4</th>\n",
       "      <td>3233.0</td>\n",
       "      <td>1.119845</td>\n",
       "      <td>Raheem Sterling</td>\n",
       "      <td>768</td>\n",
       "      <td>2.677634</td>\n",
       "      <td>-0.276107</td>\n",
       "      <td>2.401527</td>\n",
       "      <td>3.037921</td>\n",
       "    </tr>\n",
       "  </tbody>\n",
       "</table>\n",
       "</div>"
      ],
      "text/plain": [
       "   player_id  xT_value       player_name  team_id  offensive_value  \\\n",
       "0     5211.0  1.761272  Jordi Alba Ramos      772         2.099831   \n",
       "1    16570.0  1.466600   Vladimír Coufal      912         1.772318   \n",
       "2    16554.0  1.384480      Joakim Mæhle      776         3.005048   \n",
       "3     4353.0  1.235106   Aymeric Laporte      772         1.261502   \n",
       "4     3233.0  1.119845   Raheem Sterling      768         2.677634   \n",
       "\n",
       "   defensive_value  vaep_value  xG_value  \n",
       "0        -0.079838    2.019993  0.053367  \n",
       "1         0.310737    2.083055  0.021104  \n",
       "2        -0.508523    2.496526  1.838846  \n",
       "3         0.306275    1.567777  0.935935  \n",
       "4        -0.276107    2.401527  3.037921  "
      ]
     },
     "execution_count": 26,
     "metadata": {},
     "output_type": "execute_result"
    }
   ],
   "source": [
    "players_xt_vaep_xg.head()"
   ]
  },
  {
   "cell_type": "markdown",
   "metadata": {},
   "source": [
    "# xGA Calculation"
   ]
  },
  {
   "cell_type": "code",
   "execution_count": null,
   "metadata": {},
   "outputs": [],
   "source": []
  },
  {
   "cell_type": "markdown",
   "metadata": {},
   "source": [
    "# Merging calculated data frames with transfermarkt values"
   ]
  },
  {
   "cell_type": "code",
   "execution_count": 27,
   "metadata": {
    "ExecuteTime": {
     "end_time": "2022-08-19T21:03:03.350150Z",
     "start_time": "2022-08-19T21:03:03.344505Z"
    }
   },
   "outputs": [],
   "source": [
    "def read_and_prepare_tm_data(path):\n",
    "    tm_df = pd.read_csv(path)\n",
    "    tm_df[\"season\"] = tm_df[\"season\"].apply(lambda x: int(x.split(\"/\")[1]))\n",
    "    tm_df = tm_df[tm_df[\"season\"]==2021]\n",
    "    tm_df = tm_df[\n",
    "        [\n",
    "            \"player_name\",\n",
    "            \"season\",\n",
    "            \"market_value_eur\",\n",
    "            \"dob\",\n",
    "            \"position_code\"\n",
    "        ]\n",
    "    ]\n",
    "    tm_df.dropna(inplace=True)\n",
    "    tm_df.reset_index(drop=True, inplace=True)\n",
    "    tm_df.drop_duplicates(subset=[\"player_name\"], inplace=True)\n",
    "    return tm_df\n",
    "    "
   ]
  },
  {
   "cell_type": "code",
   "execution_count": 28,
   "metadata": {
    "ExecuteTime": {
     "end_time": "2022-08-19T21:03:03.369903Z",
     "start_time": "2022-08-19T21:03:03.355354Z"
    }
   },
   "outputs": [],
   "source": [
    "def string_similarity(a, b):\n",
    "    return jellyfish.jaro_distance(a, b)"
   ]
  },
  {
   "cell_type": "code",
   "execution_count": 29,
   "metadata": {
    "ExecuteTime": {
     "end_time": "2022-08-19T21:03:03.387851Z",
     "start_time": "2022-08-19T21:03:03.378104Z"
    }
   },
   "outputs": [],
   "source": [
    "def get_similarity_idx(player_names_sb, player_names_tm):\n",
    "    players_to_drop = {}\n",
    "    player_names_mapping = {}\n",
    "    for pn_sb in tqdm(player_names_sb):\n",
    "        similarity_idx = [string_similarity(pn_sb, pn_tm) for pn_tm in player_names_tm]\n",
    "        matching_idx = np.argmax(similarity_idx)\n",
    "        if similarity_idx[matching_idx] < 0.78:\n",
    "            players_to_drop[pn_sb] = player_names_tm[matching_idx]\n",
    "            continue\n",
    "        else:\n",
    "            player_names_mapping[pn_sb] = player_names_tm[matching_idx]\n",
    "    return player_names_mapping, players_to_drop\n",
    "            "
   ]
  },
  {
   "cell_type": "code",
   "execution_count": 32,
   "metadata": {
    "ExecuteTime": {
     "end_time": "2022-08-19T21:04:34.708887Z",
     "start_time": "2022-08-19T21:04:34.695521Z"
    }
   },
   "outputs": [],
   "source": [
    "def merge_tm_detadata(sb_data, tm_data, player_names_mapping, players_to_drop):\n",
    "    sb_data_clean = sb_data[~sb_data[\"player_name\"].str.lower().isin(players_to_drop.keys())]\n",
    "    sb_data_clean[\"player_name_tm\"] = sb_data_clean[\"player_name\"].apply(lambda x: player_names_mapping[x.lower()])\n",
    "    sb_data_clean.drop_duplicates(subset=[\"player_name\", \"player_name_tm\"], inplace=True)\n",
    "    sb_data_clean.dropna(inplace=True)\n",
    "    \n",
    "    data_upd = pd.merge(\n",
    "        left=sb_data_clean,\n",
    "        right=tm_data[[\"player_name\", \"market_value_eur\", \"dob\"]],\n",
    "        left_on=\"player_name_tm\", \n",
    "        right_on=\"player_name\",\n",
    "        how=\"left\"\n",
    "    )\n",
    "    data_upd[\"dob\"] = pd.to_datetime(data_upd[\"dob\"])\n",
    "    data_upd[\"age\"] = data_upd[\"dob\"].apply(lambda x: int((pd.to_datetime(\"2021-06-01\") - x).days/365))\n",
    "    \n",
    "    data_upd.drop([\"player_name_tm\", \"player_name_y\", \"dob\"], axis=1, inplace=True)\n",
    "    return data_upd"
   ]
  },
  {
   "cell_type": "code",
   "execution_count": 33,
   "metadata": {
    "ExecuteTime": {
     "end_time": "2022-08-19T21:04:41.829395Z",
     "start_time": "2022-08-19T21:04:34.718259Z"
    }
   },
   "outputs": [
    {
     "name": "stderr",
     "output_type": "stream",
     "text": [
      "100%|██████████| 485/485 [00:06<00:00, 73.20it/s]\n"
     ]
    }
   ],
   "source": [
    "tm_df = read_and_prepare_tm_data(path=\"tm_player_valuations_all_1617-2122_latest.csv\")\n",
    "player_names_sb = players_xt_vaep_xg[\"player_name\"].str.lower().tolist()\n",
    "player_names_tm = tm_df[\"player_name\"].str.lower().tolist()\n",
    "\n",
    "player_names_mapping, players_to_drop = get_similarity_idx(\n",
    "    player_names_sb, \n",
    "    player_names_tm\n",
    ")\n",
    "data_final = merge_tm_detadata(players_xt_vaep_xg, tm_df, player_names_mapping, players_to_drop)"
   ]
  },
  {
   "cell_type": "code",
   "execution_count": 34,
   "metadata": {
    "ExecuteTime": {
     "end_time": "2022-08-19T21:04:41.973747Z",
     "start_time": "2022-08-19T21:04:41.848400Z"
    }
   },
   "outputs": [],
   "source": [
    "data_final = merge_tm_detadata(players_xt_vaep_xg, tm_df, player_names_mapping, players_to_drop)"
   ]
  },
  {
   "cell_type": "code",
   "execution_count": 35,
   "metadata": {
    "ExecuteTime": {
     "end_time": "2022-08-19T21:04:42.000146Z",
     "start_time": "2022-08-19T21:04:41.980807Z"
    }
   },
   "outputs": [
    {
     "data": {
      "text/html": [
       "<div>\n",
       "<style scoped>\n",
       "    .dataframe tbody tr th:only-of-type {\n",
       "        vertical-align: middle;\n",
       "    }\n",
       "\n",
       "    .dataframe tbody tr th {\n",
       "        vertical-align: top;\n",
       "    }\n",
       "\n",
       "    .dataframe thead th {\n",
       "        text-align: right;\n",
       "    }\n",
       "</style>\n",
       "<table border=\"1\" class=\"dataframe\">\n",
       "  <thead>\n",
       "    <tr style=\"text-align: right;\">\n",
       "      <th></th>\n",
       "      <th>player_id</th>\n",
       "      <th>xT_value</th>\n",
       "      <th>player_name_x</th>\n",
       "      <th>team_id</th>\n",
       "      <th>offensive_value</th>\n",
       "      <th>defensive_value</th>\n",
       "      <th>vaep_value</th>\n",
       "      <th>xG_value</th>\n",
       "      <th>market_value_eur</th>\n",
       "      <th>age</th>\n",
       "    </tr>\n",
       "  </thead>\n",
       "  <tbody>\n",
       "    <tr>\n",
       "      <th>0</th>\n",
       "      <td>5211.0</td>\n",
       "      <td>1.761272</td>\n",
       "      <td>Jordi Alba Ramos</td>\n",
       "      <td>772</td>\n",
       "      <td>2.099831</td>\n",
       "      <td>-0.079838</td>\n",
       "      <td>2.019993</td>\n",
       "      <td>0.053367</td>\n",
       "      <td>30000000</td>\n",
       "      <td>32</td>\n",
       "    </tr>\n",
       "    <tr>\n",
       "      <th>1</th>\n",
       "      <td>16570.0</td>\n",
       "      <td>1.466600</td>\n",
       "      <td>Vladimír Coufal</td>\n",
       "      <td>912</td>\n",
       "      <td>1.772318</td>\n",
       "      <td>0.310737</td>\n",
       "      <td>2.083055</td>\n",
       "      <td>0.021104</td>\n",
       "      <td>8000000</td>\n",
       "      <td>28</td>\n",
       "    </tr>\n",
       "    <tr>\n",
       "      <th>2</th>\n",
       "      <td>16554.0</td>\n",
       "      <td>1.384480</td>\n",
       "      <td>Joakim Mæhle</td>\n",
       "      <td>776</td>\n",
       "      <td>3.005048</td>\n",
       "      <td>-0.508523</td>\n",
       "      <td>2.496526</td>\n",
       "      <td>1.838846</td>\n",
       "      <td>10000000</td>\n",
       "      <td>24</td>\n",
       "    </tr>\n",
       "    <tr>\n",
       "      <th>3</th>\n",
       "      <td>4353.0</td>\n",
       "      <td>1.235106</td>\n",
       "      <td>Aymeric Laporte</td>\n",
       "      <td>772</td>\n",
       "      <td>1.261502</td>\n",
       "      <td>0.306275</td>\n",
       "      <td>1.567777</td>\n",
       "      <td>0.935935</td>\n",
       "      <td>60000000</td>\n",
       "      <td>27</td>\n",
       "    </tr>\n",
       "    <tr>\n",
       "      <th>4</th>\n",
       "      <td>3233.0</td>\n",
       "      <td>1.119845</td>\n",
       "      <td>Raheem Sterling</td>\n",
       "      <td>768</td>\n",
       "      <td>2.677634</td>\n",
       "      <td>-0.276107</td>\n",
       "      <td>2.401527</td>\n",
       "      <td>3.037921</td>\n",
       "      <td>110000000</td>\n",
       "      <td>26</td>\n",
       "    </tr>\n",
       "  </tbody>\n",
       "</table>\n",
       "</div>"
      ],
      "text/plain": [
       "   player_id  xT_value     player_name_x  team_id  offensive_value  \\\n",
       "0     5211.0  1.761272  Jordi Alba Ramos      772         2.099831   \n",
       "1    16570.0  1.466600   Vladimír Coufal      912         1.772318   \n",
       "2    16554.0  1.384480      Joakim Mæhle      776         3.005048   \n",
       "3     4353.0  1.235106   Aymeric Laporte      772         1.261502   \n",
       "4     3233.0  1.119845   Raheem Sterling      768         2.677634   \n",
       "\n",
       "   defensive_value  vaep_value  xG_value  market_value_eur  age  \n",
       "0        -0.079838    2.019993  0.053367          30000000   32  \n",
       "1         0.310737    2.083055  0.021104           8000000   28  \n",
       "2        -0.508523    2.496526  1.838846          10000000   24  \n",
       "3         0.306275    1.567777  0.935935          60000000   27  \n",
       "4        -0.276107    2.401527  3.037921         110000000   26  "
      ]
     },
     "execution_count": 35,
     "metadata": {},
     "output_type": "execute_result"
    }
   ],
   "source": [
    "data_final.head()"
   ]
  },
  {
   "cell_type": "code",
   "execution_count": null,
   "metadata": {},
   "outputs": [],
   "source": []
  }
 ],
 "metadata": {
  "kernelspec": {
   "display_name": "Python 3",
   "language": "python",
   "name": "python3"
  },
  "language_info": {
   "codemirror_mode": {
    "name": "ipython",
    "version": 3
   },
   "file_extension": ".py",
   "mimetype": "text/x-python",
   "name": "python",
   "nbconvert_exporter": "python",
   "pygments_lexer": "ipython3",
   "version": "3.8.13"
  },
  "vscode": {
   "interpreter": {
    "hash": "33e8f26cf2ccc4d508837e7f7448c3b627d914de8c9c2f275ef4453484840ffd"
   }
  }
 },
 "nbformat": 4,
 "nbformat_minor": 2
}
